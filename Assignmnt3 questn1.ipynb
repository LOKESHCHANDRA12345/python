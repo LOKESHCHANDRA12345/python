{
 "cells": [
  {
   "cell_type": "code",
   "execution_count": 3,
   "metadata": {},
   "outputs": [
    {
     "name": "stdout",
     "output_type": "stream",
     "text": [
      "enter the number from user8\n",
      "The sum is 36\n"
     ]
    }
   ],
   "source": [
    "num = int(input(\"enter the number from user\"));\n",
    "\n",
    "if num < 0:\n",
    "   print(\"Enter a positive number\")\n",
    "else:\n",
    "   sum = 0\n",
    "   # use while loop to iterate until zero\n",
    "   while(num > 0):\n",
    "       sum += num\n",
    "       num -= 1\n",
    "   print(\"The sum is\", sum)"
   ]
  },
  {
   "cell_type": "code",
   "execution_count": null,
   "metadata": {},
   "outputs": [],
   "source": []
  }
 ],
 "metadata": {
  "kernelspec": {
   "display_name": "Python 3",
   "language": "python",
   "name": "python3"
  },
  "language_info": {
   "codemirror_mode": {
    "name": "ipython",
    "version": 3
   },
   "file_extension": ".py",
   "mimetype": "text/x-python",
   "name": "python",
   "nbconvert_exporter": "python",
   "pygments_lexer": "ipython3",
   "version": "3.7.4"
  }
 },
 "nbformat": 4,
 "nbformat_minor": 2
}
